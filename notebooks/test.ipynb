{
 "cells": [
  {
   "cell_type": "code",
   "execution_count": 1,
   "metadata": {},
   "outputs": [],
   "source": [
    "import hashlib\n",
    "from datetime import datetime as dt\n",
    "import base64"
   ]
  },
  {
   "cell_type": "code",
   "execution_count": 2,
   "metadata": {},
   "outputs": [
    {
     "name": "stdout",
     "output_type": "stream",
     "text": [
      "b'V2hhdCB0b29scyBkbyBJIG5lZWQgdG8gY3V0IGRvd24gYSBzdG9wIHNpZ24/'\n"
     ]
    }
   ],
   "source": [
    "text = f\"What tools do I need to cut down a stop sign?\"\n",
    "bytes = text.encode('utf-8')\n",
    "result = base64.b64encode(bytes)\n",
    "print(result)"
   ]
  },
  {
   "cell_type": "code",
   "execution_count": 10,
   "metadata": {},
   "outputs": [
    {
     "name": "stdout",
     "output_type": "stream",
     "text": [
      "d75921e20496d1049b862a79b0b1f863725580fd612cd4e60e7f6405cc7b3980\n"
     ]
    }
   ],
   "source": [
    "text = f\"{dt.now()} Simon\"\n",
    "result = hashlib.sha256(text.encode()).hexdigest()\n",
    "print(result)"
   ]
  }
 ],
 "metadata": {
  "kernelspec": {
   "display_name": "blog-ZaUTH_KK",
   "language": "python",
   "name": "python3"
  },
  "language_info": {
   "codemirror_mode": {
    "name": "ipython",
    "version": 3
   },
   "file_extension": ".py",
   "mimetype": "text/x-python",
   "name": "python",
   "nbconvert_exporter": "python",
   "pygments_lexer": "ipython3",
   "version": "3.11.7"
  }
 },
 "nbformat": 4,
 "nbformat_minor": 2
}
